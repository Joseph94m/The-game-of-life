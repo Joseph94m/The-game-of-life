{
 "cells": [
  {
   "cell_type": "markdown",
   "metadata": {},
   "source": [
    "Game defined as :\n",
    "\n",
    "    *State: \n",
    "        - Grid size\n",
    "        - Positions of living cells\n",
    "    *Rules: eg\n",
    "        - A cell survives if it has 2 or 3 neighbours -> dies if 1 or 0 neighbours \n",
    "        - Dies if it has more than 3 neighbours.\n",
    "        - If a dead cell has 3 neighbours it becomes alive.\n",
    "    *Stop test:\n",
    "        - If current state = previous state \n",
    "        "
   ]
  },
  {
   "cell_type": "code",
   "execution_count": 19,
   "metadata": {},
   "outputs": [
    {
     "name": "stderr",
     "output_type": "stream",
     "text": [
      "D:\\Anaconda3\\lib\\site-packages\\ipykernel_launcher.py:11: UserWarning: matplotlib.pyplot as already been imported, this call will have no effect.\n",
      "  # This is added back by InteractiveShellApp.init_path()\n"
     ]
    }
   ],
   "source": [
    "%matplotlib inline\n",
    "import IPython.display\n",
    "from io import BytesIO as bio\n",
    "import PIL.Image\n",
    "import numpy as np\n",
    "from abc import ABC, abstractmethod\n",
    "from copy import copy\n",
    "import matplotlib.pyplot as plt\n",
    "import matplotlib\n",
    "import time\n",
    "matplotlib.use('GTK3Agg')"
   ]
  },
  {
   "cell_type": "code",
   "execution_count": 20,
   "metadata": {},
   "outputs": [],
   "source": [
    "class Game:\n",
    "    def __init__(self, initial_state, rules,max_size):\n",
    "        self.initial_state = initial_state\n",
    "        self.rules = rules\n",
    "        self.max_size = max_size\n",
    "    def run_game(self, it):\n",
    "        state = self.initial_state\n",
    "        previous_state = None\n",
    "        progression = []\n",
    "        i = 0\n",
    "        while (not state.equals(previous_state) and i < it):\n",
    "            i += 1\n",
    "            previous_state = state.copy()\n",
    "            progression.append(previous_state.grid)\n",
    "            state = state.apply_rules(self.rules,self.max_size)\n",
    "        progression.append(state.grid)\n",
    "        return progression"
   ]
  },
  {
   "cell_type": "code",
   "execution_count": 21,
   "metadata": {
    "cell_style": "center"
   },
   "outputs": [],
   "source": [
    "class State(ABC):\n",
    "    @abstractmethod\n",
    "    def copy(self):\n",
    "        pass\n",
    "\n",
    "    @abstractmethod\n",
    "    def apply_rules(self, rules, max_size):\n",
    "        pass\n",
    "\n",
    "    @abstractmethod\n",
    "    def equals(self, other):\n",
    "        pass\n",
    "\n",
    "    @abstractmethod\n",
    "    def get_neighbours(self, elem, max_size):\n",
    "        pass\n",
    "\n",
    "\n",
    "class DenseNumpyState(State):\n",
    "    def __init__(self, grid):\n",
    "        self.grid = grid\n",
    "\n",
    "    def copy(self):\n",
    "        return DenseNumpyState(np.copy(self.grid))\n",
    "\n",
    "    def equals(self, other):\n",
    "        if other is None:\n",
    "            return False\n",
    "        return np.array_equal(self.grid, other.grid)\n",
    "\n",
    "    def apply_rules(self, rules, max_size,):\n",
    "        self.grid = rules.apply_rules(self.grid, max_size, self.get_neighbours)\n",
    "        return self\n",
    "\n",
    "    def get_neighbours(self, elem, max_size):\n",
    "        l = []\n",
    "        if elem[0]-1 >= 0:\n",
    "            l.append((elem[0]-1, elem[1]))\n",
    "        if elem[0]-1 >= 0 and elem[1]-1 >= 0:\n",
    "            l.append((elem[0]-1, elem[1]-1))\n",
    "        if elem[0]-1 >= 0 and elem[1]+1 < max_size:\n",
    "            l.append((elem[0]-1, elem[1]+1))\n",
    "        if elem[1]-1 >= 0:\n",
    "            l.append((elem[0], elem[1]-1))\n",
    "        if elem[1]-1 >= 0 and elem[0]+1 < max_size:\n",
    "            l.append((elem[0]+1, elem[1]-1))\n",
    "        if elem[1]+1 < max_size:\n",
    "            l.append((elem[0], elem[1]+1))\n",
    "        if elem[0]+1 < max_size:\n",
    "            l.append((elem[0]+1, elem[1]))\n",
    "        if elem[1]+1 < max_size and elem[0]+1 < max_size:\n",
    "            l.append((elem[0]+1, elem[1]+1))\n",
    "        return l\n",
    "\n",
    "\n",
    "class SparseSetState(State):\n",
    "    def __init__(self, grid):\n",
    "        self.grid = grid\n",
    "\n",
    "    def copy(self):\n",
    "        return SparseSetState(copy(self.grid))\n",
    "\n",
    "    def get_neighbours(self, elem, max_size):\n",
    "        # Returns the neighbours of a live cell if they lie within the bounds of the grid specified by max_size\n",
    "        l = []\n",
    "        if elem[0]-1 >= 0:\n",
    "            l.append((elem[0]-1, elem[1]))\n",
    "        if elem[0]-1 >= 0 and elem[1]-1 >= 0:\n",
    "            l.append((elem[0]-1, elem[1]-1))\n",
    "        if elem[0]-1 >= 0 and elem[1]+1 < max_size:\n",
    "            l.append((elem[0]-1, elem[1]+1))\n",
    "        if elem[1]-1 >= 0:\n",
    "            l.append((elem[0], elem[1]-1))\n",
    "        if elem[1]-1 >= 0 and elem[0]+1 < max_size:\n",
    "            l.append((elem[0]+1, elem[1]-1))\n",
    "        if elem[1]+1 < max_size:\n",
    "            l.append((elem[0], elem[1]+1))\n",
    "        if elem[0]+1 < max_size:\n",
    "            l.append((elem[0]+1, elem[1]))\n",
    "        if elem[1]+1 < max_size and elem[0]+1 < max_size:\n",
    "            l.append((elem[0]+1, elem[1]+1))\n",
    "        return l\n",
    "\n",
    "    def equals(self, other):\n",
    "        if other is None:\n",
    "            return False\n",
    "        return self.grid == other.grid\n",
    "\n",
    "    def apply_rules(self, rules, max_size):\n",
    "        # Calls the actual rules and provides them with the grid and the neighbour function\n",
    "        self.grid = rules.apply_rules(self.grid, max_size, self.get_neighbours)\n",
    "        return self"
   ]
  },
  {
   "cell_type": "code",
   "execution_count": 22,
   "metadata": {
    "cell_style": "center",
    "pixiedust": {
     "displayParams": {}
    }
   },
   "outputs": [],
   "source": [
    "# %%pixie_debugger\n",
    "class Rule(ABC):\n",
    "    @abstractmethod\n",
    "    def apply_rules(self, grid, max_size, get_neighbours):\n",
    "        pass\n",
    "\n",
    "\n",
    "class DenseNumpyRules(Rule):\n",
    "    def apply_rules(self, grid, max_size, get_neighbours):\n",
    "        #copied_state = state.copy()\n",
    "        #grid = state.grid\n",
    "\n",
    "        grid_ret = copy(grid)\n",
    "        for i in range(grid.shape[0]):\n",
    "            for j in range(grid.shape[1]):\n",
    "                nb = get_neighbours((i, j), max_size)\n",
    "                counter = 0\n",
    "                for n in nb:\n",
    "                    if grid[n] == True:\n",
    "                        counter += 1\n",
    "                if (counter < 2 or counter > 3):\n",
    "                    grid_ret[i][j] = False\n",
    "                if (counter == 3):\n",
    "                    grid_ret[i][j] = True\n",
    "        return grid_ret\n",
    "\n",
    "\n",
    "class SparseSetRules(Rule):\n",
    "    def apply_rules(self, grid, max_size, get_neighbours):\n",
    "        #grid = state.grid\n",
    "        counter = {}\n",
    "        for elem in grid:\n",
    "            if elem not in counter:\n",
    "                counter[elem] = 0\n",
    "            nb = get_neighbours(elem, max_size)\n",
    "            for n in nb:\n",
    "                if n not in counter:\n",
    "                    counter[n] = 1\n",
    "                else:\n",
    "                    counter[n] += 1\n",
    "        for c in counter:\n",
    "            if (counter[c] < 2 or counter[c] > 3):\n",
    "                grid.discard(c)\n",
    "            if counter[c] == 3:\n",
    "                grid.add(c)\n",
    "        return grid"
   ]
  },
  {
   "cell_type": "code",
   "execution_count": 25,
   "metadata": {},
   "outputs": [
    {
     "name": "stdout",
     "output_type": "stream",
     "text": [
      "1.192842960357666\n"
     ]
    }
   ],
   "source": [
    "MAX_ITER = 2000\n",
    "MAX_SIZE = 200\n",
    "\n",
    "init = np.zeros((MAX_SIZE, MAX_SIZE), dtype=bool)\n",
    "# 1 stable blinker - only for dense state\n",
    "# init[40][40]=True\n",
    "# init[40][41]=True\n",
    "# init[40][42]=True\n",
    "#rules1 = DenseNumpyRules()\n",
    "#game1 = Game(DenseNumpyState(init), rules1,MAX_SIZE)\n",
    "\n",
    "#-------------------Sparse examples-------------------#\n",
    "##### 1 blinker\n",
    "#board = {(40, 40),(40, 41),(40, 42)}\n",
    "#####Tetris\n",
    "#board = {(39, 40),(39, 41),(40, 39),(40, 40),(41, 40)}\n",
    "##### 4 blinkders\n",
    "#board={(40, 44),(40, 43),(40, 42),(40, 40),(40, 41)}\n",
    "##### 4 beehives\n",
    "#board={(40, 40),(41, 39),(42, 39),(43, 40),(41, 41),(42, 41),(40,41)}\n",
    "##### 4 distant blocks\n",
    "#board={(40, 40),(40, 41),(39, 41),(39, 42),(38, 42),(38, 43)}\n",
    "##### Blaster Canon\n",
    "board = {(50,180), (51,180), (50,181), (51,181), (60,180), (60,179), (60,181), (61,178),\n",
    "         (62,177), (63,177), (61,182), (62,183), (63,183), (65,182), (66,181), (66,180),\n",
    "         (66,179), (65,178), (64,180), (67,180), (70,181), (70,182), (70,183), (71,181),\n",
    "         (71,182), (71,183), (72,180), (72,184), (74,180), (74,179), (74,184), (74,185),\n",
    "         (84,182), (84,183), (85,182), (85,183)}\n",
    "\n",
    "rules2 = SparseSetRules()\n",
    "game = Game(SparseSetState(board), rules2,MAX_SIZE)\n",
    "t = time.time()\n",
    "rw = game.run_game(MAX_ITER)\n",
    "print(time.time()-t)"
   ]
  },
  {
   "cell_type": "code",
   "execution_count": 15,
   "metadata": {},
   "outputs": [
    {
     "data": {
      "text/plain": [
       "1501"
      ]
     },
     "execution_count": 15,
     "metadata": {},
     "output_type": "execute_result"
    }
   ],
   "source": [
    "#transform dense result to numpy array for representation\n",
    "#res1 = np.array(rw1)\n",
    "len(rw)"
   ]
  },
  {
   "cell_type": "code",
   "execution_count": 16,
   "metadata": {},
   "outputs": [],
   "source": [
    "#transform sparse representation to array for plotting\n",
    "res = np.zeros((len(rw), MAX_SIZE, MAX_SIZE), dtype=bool)\n",
    "for l in range(0,len(rw)):\n",
    "    for key in rw[l]:\n",
    "        res[l,key[0], key[1]] = True "
   ]
  },
  {
   "cell_type": "code",
   "execution_count": 17,
   "metadata": {
    "cell_style": "center"
   },
   "outputs": [],
   "source": [
    "#transform array to a gif and save to a file\n",
    "def save_gif(array,file_name):\n",
    "    array = np.uint8(np.clip(array,0,1)*255.0)\n",
    "    frames = []\n",
    "    for frame in range(array.shape[0]):\n",
    "        img = PIL.Image.fromarray(array[frame])\n",
    "        img = img.resize((500, 500))\n",
    "        frames.append(img)\n",
    "    img.save(file_name, save_all=True, duration=33.33, append_images=frames, loop=0,size=(500,500))"
   ]
  },
  {
   "cell_type": "code",
   "execution_count": 18,
   "metadata": {
    "cell_style": "center"
   },
   "outputs": [],
   "source": [
    "save_gif(res,\"small-asdasd.gif\")"
   ]
  },
  {
   "cell_type": "code",
   "execution_count": null,
   "metadata": {},
   "outputs": [],
   "source": []
  },
  {
   "cell_type": "code",
   "execution_count": null,
   "metadata": {},
   "outputs": [],
   "source": []
  },
  {
   "cell_type": "code",
   "execution_count": null,
   "metadata": {},
   "outputs": [],
   "source": []
  }
 ],
 "metadata": {
  "kernelspec": {
   "display_name": "Python 3",
   "language": "python",
   "name": "python3"
  },
  "language_info": {
   "codemirror_mode": {
    "name": "ipython",
    "version": 3
   },
   "file_extension": ".py",
   "mimetype": "text/x-python",
   "name": "python",
   "nbconvert_exporter": "python",
   "pygments_lexer": "ipython3",
   "version": "3.6.7"
  }
 },
 "nbformat": 4,
 "nbformat_minor": 2
}
