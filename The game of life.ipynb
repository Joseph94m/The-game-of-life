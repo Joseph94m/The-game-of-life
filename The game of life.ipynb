{
 "cells": [
  {
   "cell_type": "markdown",
   "metadata": {},
   "source": [
    "Game defined as :\n",
    "\n",
    "    *State: \n",
    "        - Grid size\n",
    "        - Positions of living cells\n",
    "    *Rules: eg\n",
    "        - A cell survives if it has 2 or 3 neighbours -> dies if 1 or 0 neighbours \n",
    "        - Dies if it has more than 3 neighbours.\n",
    "        - If a dead cell has 3 neighbours it becomes alive.\n",
    "    *Stop test:\n",
    "        - If current state = previous state \n",
    "        "
   ]
  },
  {
   "cell_type": "code",
   "execution_count": 147,
   "metadata": {},
   "outputs": [
    {
     "name": "stderr",
     "output_type": "stream",
     "text": [
      "D:\\Anaconda3\\lib\\site-packages\\ipykernel_launcher.py:17: UserWarning: matplotlib.pyplot as already been imported, this call will have no effect.\n"
     ]
    }
   ],
   "source": [
    "%matplotlib inline\n",
    "import pixiedust\n",
    "import matplotlib.animation as anim\n",
    "import skimage.color\n",
    "import skimage.io\n",
    "import IPython.display\n",
    "from io import BytesIO as bio\n",
    "import PIL.Image\n",
    "import numpy as np\n",
    "from abc import ABC, abstractmethod\n",
    "from copy import copy\n",
    "import matplotlib.pyplot as plt\n",
    "import matplotlib\n",
    "import time\n",
    "from collections import defaultdict\n",
    "# matplotlib.use('GTK3Agg')\n",
    "matplotlib.use('GTK3Agg')"
   ]
  },
  {
   "cell_type": "code",
   "execution_count": 95,
   "metadata": {},
   "outputs": [],
   "source": [
    "class Game:\n",
    "    def __init__(self, initial_state, rules,max_size):\n",
    "        self.initial_state = initial_state\n",
    "        self.rules = rules\n",
    "        self.max_size = max_size\n",
    "    def run_game(self, itera):\n",
    "        state = self.initial_state\n",
    "        previous_state = None\n",
    "        tot = []\n",
    "        i = 0\n",
    "        while (not state.equals(previous_state) and i < itera):\n",
    "            i += 1\n",
    "            previous_state = state.copy()\n",
    "            tot.append(previous_state.grid)\n",
    "            state = state.apply_rules(self.rules,self.max_size)\n",
    "        tot.append(state.grid)\n",
    "        return tot"
   ]
  },
  {
   "cell_type": "code",
   "execution_count": 96,
   "metadata": {
    "cell_style": "center"
   },
   "outputs": [],
   "source": [
    "class State(ABC):\n",
    "    @abstractmethod\n",
    "    def copy(self):\n",
    "        pass\n",
    "\n",
    "    @abstractmethod\n",
    "    def apply_rules(self, rules, max_size):\n",
    "        pass\n",
    "\n",
    "    @abstractmethod\n",
    "    def equals(self, other):\n",
    "        pass\n",
    "\n",
    "    @abstractmethod\n",
    "    def get_neighbours(self, elem, max_size):\n",
    "        pass\n",
    "\n",
    "\n",
    "class DenseNumpyState(State):\n",
    "    def __init__(self, grid):\n",
    "        self.grid = grid\n",
    "\n",
    "    def copy(self):\n",
    "        return DenseNumpyState(np.copy(self.grid))\n",
    "\n",
    "    def equals(self, other):\n",
    "        if other is None:\n",
    "            return False\n",
    "        return np.array_equal(self.grid, other.grid)\n",
    "\n",
    "    def apply_rules(self, rules, max_size):\n",
    "        self.grid = rules.apply_rules(self, max_size)\n",
    "        return self\n",
    "\n",
    "    def get_neighbours(self, elem, max_size):\n",
    "        l = []\n",
    "        if elem[0]-1 >= 0:\n",
    "            l.append((elem[0]-1, elem[1]))\n",
    "        if elem[0]-1 >= 0 and elem[1]-1 >= 0:\n",
    "            l.append((elem[0]-1, elem[1]-1))\n",
    "        if elem[0]-1 >= 0 and elem[1]+1 < max_size:\n",
    "            l.append((elem[0]-1, elem[1]+1))\n",
    "        if elem[1]-1 >= 0:\n",
    "            l.append((elem[0], elem[1]-1))\n",
    "        if elem[1]-1 >= 0 and elem[0]+1 < max_size:\n",
    "            l.append((elem[0]+1, elem[1]-1))\n",
    "        if elem[1]+1 < max_size:\n",
    "            l.append((elem[0], elem[1]+1))\n",
    "        if elem[0]+1 < max_size:\n",
    "            l.append((elem[0]+1, elem[1]))\n",
    "        if elem[1]+1 < max_size and elem[0]+1 < max_size:\n",
    "            l.append((elem[0]+1, elem[1]+1))\n",
    "        return l\n",
    "\n",
    "\n",
    "class SparseSetState(State):\n",
    "    def __init__(self, grid):\n",
    "        self.grid = grid\n",
    "\n",
    "    def copy(self):\n",
    "        return SparseSetState(copy(self.grid))\n",
    "\n",
    "    def get_neighbours(self, elem, max_size):\n",
    "        l = []\n",
    "        if elem[0]-1 >= 0:\n",
    "            l.append((elem[0]-1, elem[1]))\n",
    "        if elem[0]-1 >= 0 and elem[1]-1 >= 0:\n",
    "            l.append((elem[0]-1, elem[1]-1))\n",
    "        if elem[0]-1 >= 0 and elem[1]+1 < max_size:\n",
    "            l.append((elem[0]-1, elem[1]+1))\n",
    "        if elem[1]-1 >= 0:\n",
    "            l.append((elem[0], elem[1]-1))\n",
    "        if elem[1]-1 >= 0 and elem[0]+1 < max_size:\n",
    "            l.append((elem[0]+1, elem[1]-1))\n",
    "        if elem[1]+1 < max_size:\n",
    "            l.append((elem[0], elem[1]+1))\n",
    "        if elem[0]+1 < max_size:\n",
    "            l.append((elem[0]+1, elem[1]))\n",
    "        if elem[1]+1 < max_size and elem[0]+1 < max_size:\n",
    "            l.append((elem[0]+1, elem[1]+1))\n",
    "        return l\n",
    "\n",
    "    def equals(self, other):\n",
    "        if other is None:\n",
    "            return False\n",
    "        return self.grid == other.grid\n",
    "\n",
    "    def apply_rules(self, rules, max_size):\n",
    "        self.grid = rules.apply_rules(self, max_size)\n",
    "        return self"
   ]
  },
  {
   "cell_type": "code",
   "execution_count": 116,
   "metadata": {
    "pixiedust": {
     "displayParams": {}
    }
   },
   "outputs": [],
   "source": [
    "#%%pixie_debugger\n",
    "class Rule(ABC):\n",
    "    @abstractmethod\n",
    "    def apply_rules(self, state):\n",
    "        pass\n",
    "\n",
    "\n",
    "class DenseNumpyRules(Rule):\n",
    "    def apply_rules(self, state, max_size):\n",
    "        copied_state = state.copy()\n",
    "        grid = state.grid\n",
    "        grid_ret = copied_state.grid\n",
    "        for i in range(grid.shape[0]):\n",
    "            for j in range(grid.shape[1]):\n",
    "                nei = state.get_neighbours((i,j),max_size)\n",
    "                counter=0\n",
    "                for n in nei:\n",
    "                    if grid[n]== True:\n",
    "                        counter+=1\n",
    "                if (counter < 2 or counter > 3):\n",
    "                    grid_ret[i][j] = False\n",
    "                if (counter == 3):\n",
    "                    grid_ret[i][j] = True\n",
    "        return grid_ret\n",
    "\n",
    "\n",
    "class SparseSetRules(Rule):\n",
    "    def apply_rules(self, state, max_size):\n",
    "        grid = state.grid\n",
    "        counter = defaultdict(lambda: defaultdict(lambda: 0))\n",
    "        for elem in grid:\n",
    "            if elem not in counter:\n",
    "                counter[elem]=0\n",
    "            nei = state.get_neighbours(elem, max_size)\n",
    "            for n in nei:\n",
    "                if n not in counter:\n",
    "                    counter[n] = 1\n",
    "                else:\n",
    "                    counter[n] += 1\n",
    "        for c in counter:\n",
    "            if (counter[c] < 2 or  counter[c] > 3) :\n",
    "                grid.discard(c)\n",
    "            if counter[c] == 3:\n",
    "                grid.add(c)\n",
    "        return grid\n",
    "\n"
   ]
  },
  {
   "cell_type": "code",
   "execution_count": 146,
   "metadata": {},
   "outputs": [
    {
     "name": "stdout",
     "output_type": "stream",
     "text": [
      "0.0\n",
      "0.8507254123687744\n",
      "1501\n",
      "1501\n"
     ]
    }
   ],
   "source": [
    "MAX_ITER = 1500\n",
    "MAX_SIZE = 80\n",
    "\n",
    "init = np.zeros((MAX_SIZE, MAX_SIZE), dtype=bool)\n",
    "\n",
    "\n",
    "# 1 stable light bulb\n",
    "# init[40][40]=True\n",
    "# init[40][41]=True\n",
    "# init[40][42]=True\n",
    "\n",
    "# Dies at 4th run\n",
    "# init[40][41]=True\n",
    "# init[40][42]=True\n",
    "# init[40][43]=True\n",
    "# init[40][44]=True\n",
    "\n",
    "# 4 stable light bulbs\n",
    "#init[40][40]=True\n",
    "#init[40][41]=True\n",
    "#init[40][42]=True\n",
    "#init[40][43]=True\n",
    "#init[40][44]=True\n",
    "\n",
    "# 4 stable after thousands of iterations\n",
    "init[39][40] = True\n",
    "init[39][41] = True\n",
    "init[40][39] = True\n",
    "init[40][40] = True\n",
    "init[41][40] = True\n",
    "\n",
    "# ruches\n",
    "#init[40][40] = True\n",
    "#init[41][39] = True\n",
    "#init[42][39] = True\n",
    "#init[43][40] = True\n",
    "#init[41][41] = True\n",
    "#init[40][41] = True\n",
    "#init[42][41] = True\n",
    "\n",
    "\n",
    "# 4 blocks \n",
    "#init[40][40] = True\n",
    "#init[40][41] = True\n",
    "#init[39][41] = True\n",
    "#init[39][42] = True\n",
    "#init[38][42] = True\n",
    "#init[38][43] = True\n",
    "\n",
    "\n",
    "board = {(39, 40),(39, 41),(40, 39),(40, 40),(41, 40)}\n",
    "#board={(40, 44),(40, 43),(40, 42),(40, 40),(40, 41)}\n",
    "#board={(40, 40),(41, 39),(42, 39),(43, 40),(41, 41),(42, 41),(40,41)}\n",
    "#board={(40, 40),(40, 41),(39, 41),(39, 42),(38, 42),(38, 43)}\n",
    "\n",
    "rules2 = SparseSetRules()\n",
    "game = Game(SparseSetState(board), rules2,MAX_SIZE)\n",
    "\n",
    "rules1 = DenseNumpyRules()\n",
    "game1 = Game(DenseNumpyState(init), rules1,MAX_SIZE)\n",
    "\n",
    "t = time.time()\n",
    "#rw1 = game1.run_game(MAX_ITER )\n",
    "print(time.time()-t)\n",
    "t = time.time()\n",
    "rw = game.run_game(MAX_ITER)\n",
    "\n",
    "print(time.time()-t)\n",
    "\n",
    "print(len(rw))\n",
    "print(len(rw1))"
   ]
  },
  {
   "cell_type": "code",
   "execution_count": 138,
   "metadata": {},
   "outputs": [],
   "source": [
    "res1 = np.array(rw1)"
   ]
  },
  {
   "cell_type": "code",
   "execution_count": 139,
   "metadata": {},
   "outputs": [],
   "source": [
    "res = np.zeros((len(rw),MAX_SIZE, MAX_SIZE), dtype=bool)\n",
    "for l in range(0,len(rw)):\n",
    "    for key in rw[l]:\n",
    "        #print(key[0],key[1])\n",
    "        res[l,key[0], key[1]] = True "
   ]
  },
  {
   "cell_type": "code",
   "execution_count": 144,
   "metadata": {
    "cell_style": "center"
   },
   "outputs": [],
   "source": [
    "def display_gif(array,file_name):\n",
    "    array = array*255\n",
    "    frames = []\n",
    "    for frame in range(array.shape[0]):\n",
    "        img = PIL.Image.fromarray(array[frame])\n",
    "        img = img.resize((500, 500))\n",
    "        frames.append(img)\n",
    "    img.save(file_name, save_all=True, append_images=frames, loop=0,size=(500,500)\n",
    "            )\n",
    "    #IPython.display.Image(data=f.getvalue(), width=\"20%\")"
   ]
  },
  {
   "cell_type": "code",
   "execution_count": 145,
   "metadata": {
    "cell_style": "split"
   },
   "outputs": [],
   "source": [
    "display_gif(res,\"4.gif\")\n",
    "display_gif(res1,\"41.gif\")"
   ]
  },
  {
   "cell_type": "markdown",
   "metadata": {},
   "source": [
    "![title](4.gif)"
   ]
  },
  {
   "cell_type": "code",
   "execution_count": 7,
   "metadata": {},
   "outputs": [
    {
     "data": {
      "text/plain": [
       "<matplotlib.image.AxesImage at 0x2766e352390>"
      ]
     },
     "execution_count": 7,
     "metadata": {},
     "output_type": "execute_result"
    },
    {
     "data": {
      "image/png": "[encoded data removed]",
      "text/plain": [
       "<Figure size 432x288 with 1 Axes>"
      ]
     },
     "metadata": {
      "needs_background": "light"
     },
     "output_type": "display_data"
    }
   ],
   "source": [
    "arr=[(34, 42), (35, 40), (35, 41), (35, 43), (35, 44), (36, 40),\n",
    "       (36, 41), (36, 43), (36, 44), (38, 39), (40, 44), (42, 39),\n",
    "       (42, 40), (42, 42), (42, 43), (43, 39), (43, 40), (43, 42),\n",
    "       (43, 43), (44, 41)]\n",
    "init = np.zeros((80, 80), dtype=bool)\n",
    "\n",
    "for ayre in arr :\n",
    "    init[ayre[0],ayre[1]]=True\n",
    "\n",
    "plt.imshow(init)"
   ]
  },
  {
   "cell_type": "code",
   "execution_count": null,
   "metadata": {},
   "outputs": [],
   "source": []
  }
 ],
 "metadata": {
  "kernelspec": {
   "display_name": "Python 3",
   "language": "python",
   "name": "python3"
  },
  "language_info": {
   "codemirror_mode": {
    "name": "ipython",
    "version": 3
   },
   "file_extension": ".py",
   "mimetype": "text/x-python",
   "name": "python",
   "nbconvert_exporter": "python",
   "pygments_lexer": "ipython3",
   "version": "3.6.7"
  }
 },
 "nbformat": 4,
 "nbformat_minor": 2
}
