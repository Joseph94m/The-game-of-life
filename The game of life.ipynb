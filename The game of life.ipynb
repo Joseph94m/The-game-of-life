{
 "cells": [
  {
   "cell_type": "markdown",
   "metadata": {},
   "source": [
    "Game defined as :\n",
    "\n",
    "    *State: \n",
    "        - Grid size\n",
    "        - Positions of living cells\n",
    "    *Rules: eg\n",
    "        - A cell survives if it has 2 or 3 neighbours -> dies if 1 or 0 neighbours \n",
    "        - Dies if it has more than 3 neighbours.\n",
    "        - If a dead cell has 3 neighbours it becomes alive.\n",
    "    *Stop test:\n",
    "        - If current state = previous state \n",
    "        "
   ]
  },
  {
   "cell_type": "code",
   "execution_count": 63,
   "metadata": {},
   "outputs": [
    {
     "name": "stderr",
     "output_type": "stream",
     "text": [
      "D:\\Anaconda3\\lib\\site-packages\\ipykernel_launcher.py:16: UserWarning: matplotlib.pyplot as already been imported, this call will have no effect.\n",
      "  app.launch_new_instance()\n"
     ]
    }
   ],
   "source": [
    "%matplotlib inline\n",
    "import matplotlib.animation as anim\n",
    "import skimage.color\n",
    "import skimage.io\n",
    "import IPython.display\n",
    "from io import BytesIO as bio\n",
    "import PIL.Image\n",
    "import numpy as np\n",
    "from abc import ABC, abstractmethod\n",
    "from copy import copy\n",
    "import matplotlib.pyplot as plt\n",
    "import matplotlib\n",
    "import time\n",
    "from collections import defaultdict\n",
    "# matplotlib.use('GTK3Agg')\n",
    "matplotlib.use('GTK3Agg')"
   ]
  },
  {
   "cell_type": "code",
   "execution_count": 64,
   "metadata": {},
   "outputs": [],
   "source": [
    "class Game:\n",
    "    def __init__(self, initial_state, rules,max_size):\n",
    "        self.initial_state = initial_state\n",
    "        self.rules = rules\n",
    "        self.max_size = max_size\n",
    "    def run_game(self, itera):\n",
    "        state = self.initial_state\n",
    "        previous_state = None\n",
    "        tot = []\n",
    "        i = 0\n",
    "        while (not state.equals(previous_state) and i < itera):\n",
    "            i += 1\n",
    "            previous_state = state.copy()\n",
    "            tot.append(previous_state.grid)\n",
    "            state = state.apply_rules(self.rules,self.max_size)\n",
    "        return tot"
   ]
  },
  {
   "cell_type": "code",
   "execution_count": 65,
   "metadata": {
    "cell_style": "center"
   },
   "outputs": [],
   "source": [
    "class State(ABC):\n",
    "    @abstractmethod\n",
    "    def copy(self):\n",
    "        pass\n",
    "\n",
    "    @abstractmethod\n",
    "    def apply_rules(self, rules, max_size):\n",
    "        pass\n",
    "\n",
    "    @abstractmethod\n",
    "    def equals(self, other):\n",
    "        pass\n",
    "\n",
    "    @abstractmethod\n",
    "    def get_neighbours(self, elem, max_size):\n",
    "        pass\n",
    "\n",
    "\n",
    "class DenseNumpyState(State):\n",
    "    def __init__(self, grid):\n",
    "        self.grid = grid\n",
    "\n",
    "    def copy(self):\n",
    "        return DenseNumpyState(np.copy(self.grid))\n",
    "\n",
    "    def equals(self, other):\n",
    "        if other is None:\n",
    "            return False\n",
    "        return np.array_equal(self.grid, other.grid)\n",
    "\n",
    "    def apply_rules(self, rules, max_size):\n",
    "        self.grid = rules.apply_rules(self, max_size)\n",
    "        return self\n",
    "\n",
    "    def get_neighbours(self, elem, max_size):\n",
    "        l = []\n",
    "        if elem[0]-1 >= 0:\n",
    "            l.append((elem[0]-1, elem[1]))\n",
    "        if elem[0]-1 >= 0 and elem[1]-1 >= 0:\n",
    "            l.append((elem[0]-1, elem[1]-1))\n",
    "        if elem[0]-1 >= 0 and elem[1]+1 < max_size:\n",
    "            l.append((elem[0]-1, elem[1]+1))\n",
    "        if elem[1]-1 >= 0:\n",
    "            l.append((elem[0], elem[1]-1))\n",
    "        if elem[1]-1 >= 0 and elem[0]+1 < max_size:\n",
    "            l.append((elem[0]+1, elem[1]-1))\n",
    "        if elem[1]+1 < max_size:\n",
    "            l.append((elem[0], elem[1]+1))\n",
    "        if elem[0]+1 < max_size:\n",
    "            l.append((elem[0]+1, elem[1]))\n",
    "        if elem[1]+1 < max_size and elem[0]+1 < max_size:\n",
    "            l.append((elem[0]+1, elem[1]+1))\n",
    "        return l\n",
    "\n",
    "\n",
    "class SparseSetState(State):\n",
    "    def __init__(self, grid):\n",
    "        self.grid = grid\n",
    "\n",
    "    def copy(self):\n",
    "        return SparseSetState(copy(self.grid))\n",
    "\n",
    "    def get_neighbours(self, elem, max_size):\n",
    "        l = []\n",
    "        if elem[0]-1 >= 0:\n",
    "            l.append((elem[0]-1, elem[1]))\n",
    "        if elem[0]-1 >= 0 and elem[1]-1 >= 0:\n",
    "            l.append((elem[0]-1, elem[1]-1))\n",
    "        if elem[0]-1 >= 0 and elem[1]+1 < max_size:\n",
    "            l.append((elem[0]-1, elem[1]+1))\n",
    "        if elem[1]-1 >= 0:\n",
    "            l.append((elem[0], elem[1]-1))\n",
    "        if elem[1]-1 >= 0 and elem[0]+1 < max_size:\n",
    "            l.append((elem[0]+1, elem[1]-1))\n",
    "        if elem[1]+1 < max_size:\n",
    "            l.append((elem[0], elem[1]+1))\n",
    "        if elem[0]+1 < max_size:\n",
    "            l.append((elem[0]+1, elem[1]))\n",
    "        if elem[1]+1 < max_size and elem[0]+1 < max_size:\n",
    "            l.append((elem[0]+1, elem[1]+1))\n",
    "        return l\n",
    "\n",
    "    def equals(self, other):\n",
    "        if other is None:\n",
    "            return False\n",
    "        return self.grid == other.grid\n",
    "\n",
    "    def apply_rules(self, rules, max_size):\n",
    "        self.grid = rules.apply_rules(self, max_size)\n",
    "        return self"
   ]
  },
  {
   "cell_type": "code",
   "execution_count": 66,
   "metadata": {},
   "outputs": [],
   "source": [
    "class Rule(ABC):\n",
    "    @abstractmethod\n",
    "    def apply_rules(self, state):\n",
    "        pass\n",
    "\n",
    "\n",
    "class DenseNumpyRules(Rule):\n",
    "    def apply_rules(self, state, max_size):\n",
    "        copied_state = state.copy()\n",
    "        grid = state.grid\n",
    "        grid_ret = copied_state.grid\n",
    "        for i in range(grid.shape[0]):\n",
    "            for j in range(grid.shape[1]):\n",
    "                nei = state.get_neighbours((i,j),max_size)\n",
    "                counter=0\n",
    "                for n in nei:\n",
    "                    if grid[n]== True:\n",
    "                        counter+=1\n",
    "                if (counter < 2 or counter > 3):\n",
    "                    grid_ret[i][j] = False\n",
    "                if (counter == 3):\n",
    "                    grid_ret[i][j] = True\n",
    "        return grid_ret\n",
    "\n",
    "\n",
    "class SparseSetRules(Rule):\n",
    "    def apply_rules(self, state, max_size):\n",
    "        grid = state.grid\n",
    "        counter = defaultdict(lambda: defaultdict(lambda: 0))\n",
    "        for elem in grid:\n",
    "            nei = state.get_neighbours(elem, max_size)\n",
    "            for n in nei:\n",
    "                if n not in counter:\n",
    "                    counter[n] = 1\n",
    "                else:\n",
    "                    counter[n] += 1\n",
    "        for c in counter:\n",
    "            if (counter[c] < 2 or  counter[c] > 3) :\n",
    "                grid.discard(c)\n",
    "            if counter[c] == 3:\n",
    "                grid.add(c)\n",
    "        return grid"
   ]
  },
  {
   "cell_type": "code",
   "execution_count": 101,
   "metadata": {
    "scrolled": true
   },
   "outputs": [
    {
     "name": "stdout",
     "output_type": "stream",
     "text": [
      "100\n",
      "64\n"
     ]
    },
    {
     "data": {
      "text/plain": [
       "5.104554891586304"
      ]
     },
     "execution_count": 101,
     "metadata": {},
     "output_type": "execute_result"
    }
   ],
   "source": [
    "MAX_ITER = 100\n",
    "MAX_SIZE = 80\n",
    "\n",
    "init = np.zeros((MAX_SIZE, MAX_SIZE), dtype=bool)\n",
    "\n",
    "\n",
    "# 1 stable light bulb\n",
    "# init[40][40]=True\n",
    "# init[40][41]=True\n",
    "# init[40][42]=True\n",
    "\n",
    "# Dies at 4th run\n",
    "# init[40][41]=True\n",
    "# init[40][42]=True\n",
    "# init[40][43]=True\n",
    "# init[40][44]=True\n",
    "\n",
    "# 4 stable light bulbs\n",
    "#init[40][40]=True\n",
    "#init[40][41]=True\n",
    "#init[40][42]=True\n",
    "#init[40][43]=True\n",
    "#init[40][44]=True\n",
    "\n",
    "# 4 stable after thousands of iterations\n",
    "#init[39][40] = True\n",
    "#init[39][41] = True\n",
    "#init[40][39] = True\n",
    "#init[40][40] = True\n",
    "#init[41][40] = True\n",
    "\n",
    "# ruches\n",
    "#init[40][40] = True\n",
    "#init[41][39] = True\n",
    "#init[42][39] = True\n",
    "#init[43][40] = True\n",
    "#init[41][41] = True\n",
    "#init[40][41] = True\n",
    "#init[42][41] = True\n",
    "\n",
    "\n",
    "# 4 blocks \n",
    "init[40][40] = True\n",
    "init[40][41] = True\n",
    "init[39][41] = True\n",
    "init[39][42] = True\n",
    "init[38][42] = True\n",
    "init[38][43] = True\n",
    "\n",
    "\n",
    "#board = {(39, 40),(39, 41),(40, 39),(40, 40),(41, 40)}\n",
    "#board={(40, 44),(40, 43),(40, 42),(40, 40),(40, 41)}\n",
    "#board={(40, 40),(41, 39),(42, 39),(43, 40),(41, 41),(42, 41),(40,41)}\n",
    "board={(40, 40),(40, 41),(39, 41),(39, 42),(38, 42),(38, 43)}\n",
    "\n",
    "rules2 = SparseSetRules()\n",
    "game = Game(SparseSetState(board), rules2,MAX_SIZE)\n",
    "\n",
    "rules1 = DenseNumpyRules()\n",
    "game1 = Game(DenseNumpyState(init), rules1,MAX_SIZE)\n",
    "\n",
    "\n",
    "\n",
    "\n",
    "t = time.time()\n",
    "rw1 = game1.run_game(MAX_ITER )\n",
    "rw = game.run_game(MAX_ITER)\n",
    "\n",
    "print(len(rw))\n",
    "print(len(rw1))\n",
    "\n",
    "\n",
    "\n",
    "time.time()-t\n",
    "\n",
    "\n",
    "\n",
    "# rw.shape\n",
    "# len(rw)"
   ]
  },
  {
   "cell_type": "code",
   "execution_count": null,
   "metadata": {},
   "outputs": [],
   "source": []
  },
  {
   "cell_type": "code",
   "execution_count": 102,
   "metadata": {},
   "outputs": [],
   "source": [
    "res1 = np.array(rw1)"
   ]
  },
  {
   "cell_type": "code",
   "execution_count": 109,
   "metadata": {},
   "outputs": [],
   "source": [
    "res = np.zeros((len(rw),MAX_SIZE, MAX_SIZE), dtype=bool)\n",
    "for l in range(0,len(rw)):\n",
    "    for key in rw[l]:\n",
    "        #print(key[0],key[1])\n",
    "        res[l,key[0], key[1]] = True "
   ]
  },
  {
   "cell_type": "code",
   "execution_count": 110,
   "metadata": {
    "cell_style": "split"
   },
   "outputs": [
    {
     "data": {
      "text/plain": [
       "<matplotlib.image.AxesImage at 0x25f7f8d5f98>"
      ]
     },
     "execution_count": 110,
     "metadata": {},
     "output_type": "execute_result"
    },
    {
     "data": {
      "image/png": "[encoded data removed]",
      "text/plain": [
       "<Figure size 432x288 with 1 Axes>"
      ]
     },
     "metadata": {
      "needs_background": "light"
     },
     "output_type": "display_data"
    }
   ],
   "source": [
    "#or  l in range(len(rw1)):\n",
    " #   print((res1[l]== res[l]). all())\n",
    "#print(res[8],res1[8])\n",
    "#print(res[9],res1[9])\n",
    "\n",
    "\n",
    "plt.imshow(res[8,30:60,30:60])\n"
   ]
  },
  {
   "cell_type": "code",
   "execution_count": 111,
   "metadata": {
    "cell_style": "split"
   },
   "outputs": [
    {
     "data": {
      "text/plain": [
       "<matplotlib.image.AxesImage at 0x25f7f92bbe0>"
      ]
     },
     "execution_count": 111,
     "metadata": {},
     "output_type": "execute_result"
    },
    {
     "data": {
      "image/png": "[encoded data removed]",
      "text/plain": [
       "<Figure size 432x288 with 1 Axes>"
      ]
     },
     "metadata": {
      "needs_background": "light"
     },
     "output_type": "display_data"
    }
   ],
   "source": [
    "#or  l in range(len(rw1)):\n",
    " #   print((res1[l]== res[l]). all())\n",
    "#print(res[8],res1[8])\n",
    "#print(res[9],res1[9])\n",
    "\n",
    "\n",
    "plt.imshow(res1[8,30:60,30:60])\n"
   ]
  },
  {
   "cell_type": "code",
   "execution_count": 112,
   "metadata": {
    "cell_style": "split"
   },
   "outputs": [
    {
     "data": {
      "text/plain": [
       "<matplotlib.image.AxesImage at 0x25f7f986a20>"
      ]
     },
     "execution_count": 112,
     "metadata": {},
     "output_type": "execute_result"
    },
    {
     "data": {
      "image/png": "[encoded data removed]",
      "text/plain": [
       "<Figure size 432x288 with 1 Axes>"
      ]
     },
     "metadata": {
      "needs_background": "light"
     },
     "output_type": "display_data"
    }
   ],
   "source": [
    "#or  l in range(len(rw1)):\n",
    " #   print((res1[l]== res[l]). all())\n",
    "#print(res[8],res1[8])\n",
    "#print(res[9],res1[9])\n",
    "\n",
    "\n",
    "plt.imshow(res[9,30:60,30:60])\n"
   ]
  },
  {
   "cell_type": "code",
   "execution_count": 114,
   "metadata": {
    "cell_style": "split"
   },
   "outputs": [
    {
     "data": {
      "text/plain": [
       "<matplotlib.image.AxesImage at 0x25f7fa34668>"
      ]
     },
     "execution_count": 114,
     "metadata": {},
     "output_type": "execute_result"
    },
    {
     "data": {
      "image/png": "[encoded data removed]",
      "text/plain": [
       "<Figure size 432x288 with 1 Axes>"
      ]
     },
     "metadata": {
      "needs_background": "light"
     },
     "output_type": "display_data"
    }
   ],
   "source": [
    "#or  l in range(len(rw1)):\n",
    " #   print((res1[l]== res[l]). all())\n",
    "#print(res[8],res1[8])\n",
    "#print(res[9],res1[9])\n",
    "\n",
    "\n",
    "plt.imshow(res1[9,30:60,30:60])\n"
   ]
  },
  {
   "cell_type": "code",
   "execution_count": 49,
   "metadata": {
    "cell_style": "center"
   },
   "outputs": [],
   "source": [
    "def display_gif(array,file_name):\n",
    "    array = array*255\n",
    "    frames = []\n",
    "    for frame in range(array.shape[0]):\n",
    "        img = PIL.Image.fromarray(array[frame])\n",
    "        img = img.resize((500, 500))\n",
    "        frames.append(img)\n",
    "    img.save(file_name, save_all=True, append_images=frames, loop=0,size=(500,500)\n",
    "            )\n",
    "    #IPython.display.Image(data=f.getvalue(), width=\"20%\")"
   ]
  },
  {
   "cell_type": "code",
   "execution_count": 50,
   "metadata": {
    "cell_style": "split"
   },
   "outputs": [],
   "source": [
    "display_gif(res,\"4.gif\")\n",
    "display_gif(res1,\"41.gif\")"
   ]
  },
  {
   "cell_type": "markdown",
   "metadata": {},
   "source": [
    "![title](4.gif)"
   ]
  },
  {
   "cell_type": "markdown",
   "metadata": {},
   "source": [
    "![title](all_frames.gif)"
   ]
  },
  {
   "cell_type": "code",
   "execution_count": 43,
   "metadata": {},
   "outputs": [
    {
     "name": "stderr",
     "output_type": "stream",
     "text": [
      "MovieWriter imagemagick unavailable. Trying to use pillow instead.\n"
     ]
    }
   ],
   "source": [
    "from matplotlib.animation import FuncAnimation\n",
    "import matplotlib.pyplot as plt\n",
    "import numpy as np\n",
    "\n",
    "fig, ax = plt.subplots(figsize=(10, 10))\n",
    "\n",
    "\n",
    "def update(rw):\n",
    "    ax.imshow(rw)\n",
    "\n",
    "\n",
    "anim = FuncAnimation(fig, update, frames=rw[:200, :, :], interval=125)\n",
    "anim.save('first-200-frames.gif', dpi=80, writer='imagemagick')\n",
    "plt.close()"
   ]
  },
  {
   "cell_type": "code",
   "execution_count": 42,
   "metadata": {},
   "outputs": [
    {
     "ename": "TypeError",
     "evalue": "'module' object is not callable",
     "output_type": "error",
     "traceback": [
      "\u001b[1;31m---------------------------------------------------------------------------\u001b[0m",
      "\u001b[1;31mTypeError\u001b[0m                                 Traceback (most recent call last)",
      "\u001b[1;32m<ipython-input-42-c86a059a3c6c>\u001b[0m in \u001b[0;36m<module>\u001b[1;34m\u001b[0m\n\u001b[1;32m----> 1\u001b[1;33m \u001b[0mImage\u001b[0m\u001b[1;33m(\u001b[0m\u001b[0mfilename\u001b[0m\u001b[1;33m=\u001b[0m\u001b[1;34m\"./last-200-frames.gif\"\u001b[0m\u001b[1;33m)\u001b[0m\u001b[1;33m\u001b[0m\u001b[1;33m\u001b[0m\u001b[0m\n\u001b[0m",
      "\u001b[1;31mTypeError\u001b[0m: 'module' object is not callable"
     ]
    }
   ],
   "source": [
    "Image(filename=\"./last-200-frames.gif\")"
   ]
  },
  {
   "cell_type": "markdown",
   "metadata": {},
   "source": [
    "![SegmentLocal](./last-50-frames.gif \"segment\")"
   ]
  },
  {
   "cell_type": "code",
   "execution_count": 108,
   "metadata": {},
   "outputs": [
    {
     "data": {
      "image/png": "[encoded data removed]",
      "text/plain": [
       "<Figure size 720x720 with 1 Axes>"
      ]
     },
     "metadata": {
      "needs_background": "light"
     },
     "output_type": "display_data"
    },
    {
     "data": {
      "text/plain": [
       "<Figure size 432x288 with 0 Axes>"
      ]
     },
     "metadata": {},
     "output_type": "display_data"
    }
   ],
   "source": [
    "fig = plt.figure(figsize=(10, 10))\n",
    "ax = fig.add_subplot(111)\n",
    "myobj = ax.imshow(rw[0].grid, animated=True)\n",
    "\n",
    "plt.show()\n",
    "for i in range(1, 20):\n",
    "    myobj.set_data(rw[i].grid)\n",
    "    plt.draw()\n",
    "    time.sleep(0.1)\n",
    "\n",
    "plt.close(fig)"
   ]
  },
  {
   "cell_type": "code",
   "execution_count": 89,
   "metadata": {},
   "outputs": [
    {
     "data": {
      "image/png": "[encoded data removed]",
      "text/plain": [
       "<Figure size 720x720 with 1 Axes>"
      ]
     },
     "metadata": {
      "needs_background": "light"
     },
     "output_type": "display_data"
    }
   ],
   "source": [
    "fig = plt.figure(figsize=(10, 10))\n",
    "\n",
    "ax = fig.add_subplot(111)\n",
    "\n",
    "myobj = ax.imshow(rw[1].grid)\n",
    "plt.show()"
   ]
  },
  {
   "cell_type": "code",
   "execution_count": 90,
   "metadata": {},
   "outputs": [
    {
     "data": {
      "image/png": "[encoded data removed]",
      "text/plain": [
       "<Figure size 720x720 with 1 Axes>"
      ]
     },
     "metadata": {
      "needs_background": "light"
     },
     "output_type": "display_data"
    }
   ],
   "source": [
    "fig = plt.figure(figsize=(10, 10))\n",
    "\n",
    "ax = fig.add_subplot(111)\n",
    "\n",
    "myobj = ax.imshow(rw[10].grid)\n",
    "plt.show()"
   ]
  },
  {
   "cell_type": "code",
   "execution_count": 55,
   "metadata": {},
   "outputs": [
    {
     "data": {
      "image/png": "[encoded data removed]",
      "text/plain": [
       "<Figure size 720x720 with 1 Axes>"
      ]
     },
     "metadata": {
      "needs_background": "light"
     },
     "output_type": "display_data"
    }
   ],
   "source": [
    "fig = plt.figure(figsize=(10, 10))\n",
    "\n",
    "ax = fig.add_subplot(111)\n",
    "\n",
    "myobj = ax.imshow(res[55])\n",
    "plt.show()"
   ]
  },
  {
   "cell_type": "code",
   "execution_count": null,
   "metadata": {},
   "outputs": [],
   "source": []
  }
 ],
 "metadata": {
  "kernelspec": {
   "display_name": "Python 3",
   "language": "python",
   "name": "python3"
  },
  "language_info": {
   "codemirror_mode": {
    "name": "ipython",
    "version": 3
   },
   "file_extension": ".py",
   "mimetype": "text/x-python",
   "name": "python",
   "nbconvert_exporter": "python",
   "pygments_lexer": "ipython3",
   "version": "3.6.7"
  }
 },
 "nbformat": 4,
 "nbformat_minor": 2
}
